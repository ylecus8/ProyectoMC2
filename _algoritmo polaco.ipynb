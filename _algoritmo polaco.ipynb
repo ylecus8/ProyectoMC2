{
 "cells": [
  {
   "cell_type": "code",
   "execution_count": null,
   "id": "0e211e5a",
   "metadata": {},
   "outputs": [
    {
     "name": "stdout",
     "output_type": "stream",
     "text": [
      "Introduce una expresión en notación polaca inversa: 5 2 * 8 + 10 *\n",
      "180\n",
      "Introduce una expresión en notación polaca inversa: 5 3 * 15 + 20 +\n",
      "50\n",
      "Introduce una expresión en notación polaca inversa: 8 8 * 6 +\n",
      "70\n"
     ]
    }
   ],
   "source": [
    "def calcular(s):\n",
    "    pila = []\n",
    "    operadores = ['+', '-', '*', '/']\n",
    "    for c in s:\n",
    "        if c not in operadores:\n",
    "            pila.append(int(c))\n",
    "        else:\n",
    "            top1 = pila.pop()\n",
    "            top2 = pila.pop()\n",
    "            if c == '+':\n",
    "                pila.append(top2 + top1)\n",
    "            elif c == '-':\n",
    "                pila.append(top2 - top1)\n",
    "            elif c == '*':\n",
    "                pila.append(top2 * top1)\n",
    "            elif c == '/':\n",
    "                pila.append(int(top2 / top1))\n",
    "    return pila.pop()\n",
    "\n",
    "while True:\n",
    "    s = input(\"Introduce una expresión en notación polaca inversa: \")\n",
    "    print(calcular(s.split()))\n",
    "          "
   ]
  },
  {
   "cell_type": "code",
   "execution_count": null,
   "id": "07e14d5f",
   "metadata": {},
   "outputs": [],
   "source": []
  },
  {
   "cell_type": "code",
   "execution_count": null,
   "id": "a2d467f1",
   "metadata": {},
   "outputs": [],
   "source": []
  }
 ],
 "metadata": {
  "kernelspec": {
   "display_name": "Python 3 (ipykernel)",
   "language": "python",
   "name": "python3"
  },
  "language_info": {
   "codemirror_mode": {
    "name": "ipython",
    "version": 3
   },
   "file_extension": ".py",
   "mimetype": "text/x-python",
   "name": "python",
   "nbconvert_exporter": "python",
   "pygments_lexer": "ipython3",
   "version": "3.9.12"
  }
 },
 "nbformat": 4,
 "nbformat_minor": 5
}
